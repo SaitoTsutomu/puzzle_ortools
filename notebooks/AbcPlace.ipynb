{
 "cells": [
  {
   "cell_type": "markdown",
   "metadata": {
    "cell_style": "split"
   },
   "source": [
    "<div style='float: right'><img src='pic/abcplace.png'/></div>\n",
    "\n",
    "## ABCプレース"
   ]
  },
  {
   "cell_type": "markdown",
   "metadata": {},
   "source": [
    "### 問題\n",
    "* 各行各列にA、B、Cを1つずつ置く。\n",
    "* 外側のヒントは、最も近い文字を表す。\n",
    "\n",
    "### 変数\n",
    "* v：各文字 (1)\n",
    "\n",
    "### 制約\n",
    "* ヒントを満たす (2)\n",
    "* 各行各列に1つ (3)\n",
    "* 文字は1つ (4)"
   ]
  },
  {
   "cell_type": "code",
   "execution_count": 1,
   "metadata": {
    "cell_style": "split"
   },
   "outputs": [],
   "source": [
    "import numpy as np\n",
    "from itertools import product\n",
    "from pulp import *\n",
    "from ortoolpy import addvar, addvars, addbinvar, addbinvars\n",
    "from ortools.sat.python import cp_model\n",
    "data = \"\"\"\\\n",
    " B B  C \n",
    "A......B\n",
    "B...... \n",
    "C...... \n",
    " ......A\n",
    " ......C\n",
    " ...... \n",
    "  BC CA \"\"\".split('\\n')\n",
    "nn = len(data)-2"
   ]
  },
  {
   "cell_type": "code",
   "execution_count": 2,
   "metadata": {},
   "outputs": [
    {
     "name": "stdout",
     "output_type": "stream",
     "text": [
      "CPU times: user 70 ms, sys: 10 ms, total: 80 ms\n",
      "Wall time: 78.1 ms\n",
      ". A . C B .\n",
      ". . B A . C\n",
      ". C A . . B\n",
      "B . C . A .\n",
      "A B . . C .\n",
      "C . . B . A\n"
     ]
    }
   ],
   "source": [
    "def chk(v, c, isless):\n",
    "    k = ord(c) - 65\n",
    "    if k >= 0:\n",
    "        for j in range(3):\n",
    "            if j != k:\n",
    "                m.Add(v[k] < v[j] if isless else v[k] > v[j])\n",
    "m = cp_model.CpModel()\n",
    "vh = np.array([[m.NewIntVar(0, nn - 1, f'vh{i}{j}') for j in range(3)] for i in range(nn)])\n",
    "vv = np.array([[m.NewIntVar(0, nn - 1, f'vv{i}{j}') for j in range(3)] for i in range(nn)])\n",
    "for i in range(nn):\n",
    "    m.AddAllDifferent(vh[i])\n",
    "    m.AddAllDifferent(vv[i])\n",
    "    chk(vv[i], data[0][i + 1], True)\n",
    "    chk(vv[i], data[nn + 1][i + 1], False)\n",
    "    chk(vh[i], data[i + 1][0], True)\n",
    "    chk(vh[i], data[i + 1][nn + 1], False)\n",
    "for i, j, k in product(range(nn), range(nn), range(3)):\n",
    "    vb1, vb2 = m.NewBoolVar(f'vb1{i}{j}{k}'), m.NewBoolVar(f'vb2{i}{j}{k}')\n",
    "    m.Add(vh[i][k] == j).OnlyEnforceIf(vb1)\n",
    "    m.Add(vv[j][k] != i).OnlyEnforceIf(vb2)\n",
    "    m.AddBoolXOr([vb1, vb2])\n",
    "solver = cp_model.CpSolver()\n",
    "%time status = solver.Solve(m)\n",
    "res = np.vectorize(solver.Value)(vh)\n",
    "cc = np.full((nn, nn), '.')\n",
    "for i, j in product(range(nn), range(3)):\n",
    "    cc[i][res[i][j]] = chr(65 + j)\n",
    "print('\\n'.join(' '.join(s) for s in cc))"
   ]
  },
  {
   "cell_type": "code",
   "execution_count": 3,
   "metadata": {},
   "outputs": [
    {
     "name": "stdout",
     "output_type": "stream",
     "text": [
      "CPU times: user 10 ms, sys: 0 ns, total: 10 ms\n",
      "Wall time: 40.8 ms\n",
      ". A . C B .\n",
      ". . B A . C\n",
      ". C A . . B\n",
      "B . C . A .\n",
      "A B . . C .\n",
      "C . . B . A\n"
     ]
    }
   ],
   "source": [
    "m = LpProblem()\n",
    "v = np.array(addbinvars(nn, nn, 4)) # (1)\n",
    "def chk(m, c, y, x, dy, dx):\n",
    "    d = ord(c)-64\n",
    "    if d > 0:\n",
    "        for i, k in product(range(1,nn), range(1,4)):\n",
    "            if k != d:\n",
    "                for j in range(i):\n",
    "                    m += v[y+dy*j,x+dx*j,k] <= 1-v[y+dy*i,x+dx*i,d] # (2)\n",
    "for i in range(nn):\n",
    "    for k in range(1, 4):\n",
    "        m += lpSum(v[i,:,k]) == 1 # (3)\n",
    "        m += lpSum(v[:,i,k]) == 1 # (3)\n",
    "    chk(m, data[0][i+1], 0, i, 1, 0)\n",
    "    chk(m, data[nn+1][i+1], nn-1, i, -1, 0)\n",
    "    chk(m, data[i+1][0], i, 0, 0, 1)\n",
    "    chk(m, data[i+1][nn+1], i, nn-1, 0, -1)\n",
    "for i, j in product(range(nn), range(nn)):\n",
    "    m += lpSum(v[i,j]) == 1 # (4)\n",
    "%time m.solve()\n",
    "print('\\n'.join(' '.join('.ABC'[i] for i in j)\n",
    "    for j in np.vectorize(value)(v).dot(range(4)).astype(int)))"
   ]
  }
 ],
 "metadata": {
  "kernelspec": {
   "display_name": "Python 3",
   "language": "python",
   "name": "python3"
  },
  "language_info": {
   "codemirror_mode": {
    "name": "ipython",
    "version": 3
   },
   "file_extension": ".py",
   "mimetype": "text/x-python",
   "name": "python",
   "nbconvert_exporter": "python",
   "pygments_lexer": "ipython3",
   "version": "3.7.4"
  }
 },
 "nbformat": 4,
 "nbformat_minor": 2
}
